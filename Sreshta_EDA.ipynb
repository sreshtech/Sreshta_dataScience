{
  "nbformat": 4,
  "nbformat_minor": 0,
  "metadata": {
    "colab": {
      "provenance": []
    },
    "kernelspec": {
      "name": "python3",
      "display_name": "Python 3"
    },
    "language_info": {
      "name": "python"
    }
  },
  "cells": [
    {
      "cell_type": "code",
      "execution_count": null,
      "metadata": {
        "id": "ErQXmPv02Ld7"
      },
      "outputs": [],
      "source": []
    },
    {
      "cell_type": "code",
      "source": [
        "import pandas as pd"
      ],
      "metadata": {
        "id": "XulNjrc62pGm"
      },
      "execution_count": null,
      "outputs": []
    },
    {
      "cell_type": "code",
      "source": [
        "import matplotlib.pyplot as plt"
      ],
      "metadata": {
        "id": "NrWAynpf2x7K"
      },
      "execution_count": null,
      "outputs": []
    },
    {
      "cell_type": "code",
      "source": [
        "import seaborn as sns"
      ],
      "metadata": {
        "id": "nGHvegPT20Kl"
      },
      "execution_count": null,
      "outputs": []
    },
    {
      "cell_type": "code",
      "source": [
        "%matplotlib inline\n"
      ],
      "metadata": {
        "id": "TnlQRK1l22VV"
      },
      "execution_count": null,
      "outputs": []
    },
    {
      "cell_type": "code",
      "source": [
        "import os\n",
        "print(os.getcwd())"
      ],
      "metadata": {
        "colab": {
          "base_uri": "https://localhost:8080/"
        },
        "id": "Lqvl1RqI5-En",
        "outputId": "173e9e53-b225-4a53-b699-5572886d283b"
      },
      "execution_count": 12,
      "outputs": [
        {
          "output_type": "stream",
          "name": "stdout",
          "text": [
            "/content\n"
          ]
        }
      ]
    },
    {
      "cell_type": "code",
      "source": [
        "customers = pd.read_csv('Customers.csv')"
      ],
      "metadata": {
        "id": "9hzJP4-O7Fk2"
      },
      "execution_count": 13,
      "outputs": []
    },
    {
      "cell_type": "code",
      "source": [
        "products = pd.read_csv('Products.csv')\n"
      ],
      "metadata": {
        "id": "RdKEpNO57KfC"
      },
      "execution_count": 14,
      "outputs": []
    },
    {
      "cell_type": "code",
      "source": [
        "transactions = pd.read_csv('Transactions.csv')"
      ],
      "metadata": {
        "id": "hNmgCWQO7N8y"
      },
      "execution_count": 15,
      "outputs": []
    },
    {
      "cell_type": "code",
      "source": [
        "print(\"Customers Data:\")"
      ],
      "metadata": {
        "colab": {
          "base_uri": "https://localhost:8080/"
        },
        "id": "0ENClD1a7SOM",
        "outputId": "b6eef468-2713-4558-97f8-6095c0b5f399"
      },
      "execution_count": 16,
      "outputs": [
        {
          "output_type": "stream",
          "name": "stdout",
          "text": [
            "Customers Data:\n"
          ]
        }
      ]
    },
    {
      "cell_type": "code",
      "source": [
        "print(customers.head())"
      ],
      "metadata": {
        "colab": {
          "base_uri": "https://localhost:8080/"
        },
        "id": "-z-9qVnp7XgX",
        "outputId": "ae72330f-9024-4bd3-cdce-a6dd82dadb24"
      },
      "execution_count": 18,
      "outputs": [
        {
          "output_type": "stream",
          "name": "stdout",
          "text": [
            "  CustomerID        CustomerName         Region  SignupDate\n",
            "0      C0001    Lawrence Carroll  South America  2022-07-10\n",
            "1      C0002      Elizabeth Lutz           Asia  2022-02-13\n",
            "2      C0003      Michael Rivera  South America  2024-03-07\n",
            "3      C0004  Kathleen Rodriguez  South America  2022-10-09\n",
            "4      C0005         Laura Weber           Asia  2022-08-15\n"
          ]
        }
      ]
    },
    {
      "cell_type": "code",
      "source": [
        "print(\"\\nProducts Data:\")"
      ],
      "metadata": {
        "colab": {
          "base_uri": "https://localhost:8080/"
        },
        "id": "JlWoiMR-7blT",
        "outputId": "bbad7ce4-a4e1-4e2f-c0b1-9f90aab78bb2"
      },
      "execution_count": 19,
      "outputs": [
        {
          "output_type": "stream",
          "name": "stdout",
          "text": [
            "\n",
            "Products Data:\n"
          ]
        }
      ]
    },
    {
      "cell_type": "code",
      "source": [
        "print(products.head())\n"
      ],
      "metadata": {
        "colab": {
          "base_uri": "https://localhost:8080/"
        },
        "id": "8nSW7TZX7lvh",
        "outputId": "567fa855-cd00-4dc8-a401-e59234097e89"
      },
      "execution_count": 20,
      "outputs": [
        {
          "output_type": "stream",
          "name": "stdout",
          "text": [
            "  ProductID              ProductName     Category   Price\n",
            "0      P001     ActiveWear Biography        Books  169.30\n",
            "1      P002    ActiveWear Smartwatch  Electronics  346.30\n",
            "2      P003  ComfortLiving Biography        Books   44.12\n",
            "3      P004            BookWorld Rug   Home Decor   95.69\n",
            "4      P005          TechPro T-Shirt     Clothing  429.31\n"
          ]
        }
      ]
    },
    {
      "cell_type": "code",
      "source": [
        "print(\"\\nTransactions Data:\")"
      ],
      "metadata": {
        "colab": {
          "base_uri": "https://localhost:8080/"
        },
        "id": "JWzqjvJI7oqT",
        "outputId": "9b1847fb-3fbc-48e9-c841-9d1ad90169ba"
      },
      "execution_count": 21,
      "outputs": [
        {
          "output_type": "stream",
          "name": "stdout",
          "text": [
            "\n",
            "Transactions Data:\n"
          ]
        }
      ]
    },
    {
      "cell_type": "code",
      "source": [
        "print(transactions.head())"
      ],
      "metadata": {
        "colab": {
          "base_uri": "https://localhost:8080/"
        },
        "id": "ssQTsg4g7rXD",
        "outputId": "3a2079d3-81e9-4272-cbd5-0b7a8d3da8c2"
      },
      "execution_count": 22,
      "outputs": [
        {
          "output_type": "stream",
          "name": "stdout",
          "text": [
            "  TransactionID CustomerID ProductID      TransactionDate  Quantity  \\\n",
            "0        T00001      C0199      P067  2024-08-25 12:38:23         1   \n",
            "1        T00112      C0146      P067  2024-05-27 22:23:54         1   \n",
            "2        T00166      C0127      P067  2024-04-25 07:38:55         1   \n",
            "3        T00272      C0087      P067  2024-03-26 22:55:37         2   \n",
            "4        T00363      C0070      P067  2024-03-21 15:10:10         3   \n",
            "\n",
            "   TotalValue   Price  \n",
            "0      300.68  300.68  \n",
            "1      300.68  300.68  \n",
            "2      300.68  300.68  \n",
            "3      601.36  300.68  \n",
            "4      902.04  300.68  \n"
          ]
        }
      ]
    },
    {
      "cell_type": "code",
      "source": [
        "print(\"Missing Values:\")"
      ],
      "metadata": {
        "colab": {
          "base_uri": "https://localhost:8080/"
        },
        "id": "6a6si-zx7uxp",
        "outputId": "8bccd937-2486-4f0f-e582-a15f2771d8c5"
      },
      "execution_count": 23,
      "outputs": [
        {
          "output_type": "stream",
          "name": "stdout",
          "text": [
            "Missing Values:\n"
          ]
        }
      ]
    },
    {
      "cell_type": "code",
      "source": [
        "print(customers.isnull().sum())"
      ],
      "metadata": {
        "colab": {
          "base_uri": "https://localhost:8080/"
        },
        "id": "rsNFIxdQ7xcs",
        "outputId": "9b7dc423-ae2b-4418-9303-930224b59021"
      },
      "execution_count": 24,
      "outputs": [
        {
          "output_type": "stream",
          "name": "stdout",
          "text": [
            "CustomerID      0\n",
            "CustomerName    0\n",
            "Region          0\n",
            "SignupDate      0\n",
            "dtype: int64\n"
          ]
        }
      ]
    },
    {
      "cell_type": "code",
      "source": [
        "print(products.isnull().sum())"
      ],
      "metadata": {
        "colab": {
          "base_uri": "https://localhost:8080/"
        },
        "id": "Cd9Pvf6N7z-5",
        "outputId": "8114df5b-8070-44a3-b8a2-41f839bd789b"
      },
      "execution_count": 25,
      "outputs": [
        {
          "output_type": "stream",
          "name": "stdout",
          "text": [
            "ProductID      0\n",
            "ProductName    0\n",
            "Category       0\n",
            "Price          0\n",
            "dtype: int64\n"
          ]
        }
      ]
    },
    {
      "cell_type": "code",
      "source": [
        "print(transactions.isnull().sum())"
      ],
      "metadata": {
        "colab": {
          "base_uri": "https://localhost:8080/"
        },
        "id": "L9PD4mOT73U_",
        "outputId": "9f237d1e-4eba-41ed-b5c0-d4e2c44aa207"
      },
      "execution_count": 26,
      "outputs": [
        {
          "output_type": "stream",
          "name": "stdout",
          "text": [
            "TransactionID      0\n",
            "CustomerID         0\n",
            "ProductID          0\n",
            "TransactionDate    0\n",
            "Quantity           0\n",
            "TotalValue         0\n",
            "Price              0\n",
            "dtype: int64\n"
          ]
        }
      ]
    },
    {
      "cell_type": "code",
      "source": [
        "print(\"\\nDuplicate Rows:\")"
      ],
      "metadata": {
        "colab": {
          "base_uri": "https://localhost:8080/"
        },
        "id": "OdZcD-K6755a",
        "outputId": "197b87b4-95bc-4530-d24a-f10e863c4aaa"
      },
      "execution_count": 27,
      "outputs": [
        {
          "output_type": "stream",
          "name": "stdout",
          "text": [
            "\n",
            "Duplicate Rows:\n"
          ]
        }
      ]
    },
    {
      "cell_type": "code",
      "source": [
        "print(\"Customers:\", customers.duplicated().sum())"
      ],
      "metadata": {
        "colab": {
          "base_uri": "https://localhost:8080/"
        },
        "id": "aEyjQe487-Td",
        "outputId": "1a42da10-74f5-407b-a495-c905c4de8699"
      },
      "execution_count": 28,
      "outputs": [
        {
          "output_type": "stream",
          "name": "stdout",
          "text": [
            "Customers: 0\n"
          ]
        }
      ]
    },
    {
      "cell_type": "code",
      "source": [
        "print(\"Products:\", products.duplicated().sum())"
      ],
      "metadata": {
        "colab": {
          "base_uri": "https://localhost:8080/"
        },
        "id": "CcsE15Y88Awm",
        "outputId": "11610144-4334-4ff0-8bd9-aa314b582b85"
      },
      "execution_count": 29,
      "outputs": [
        {
          "output_type": "stream",
          "name": "stdout",
          "text": [
            "Products: 0\n"
          ]
        }
      ]
    },
    {
      "cell_type": "code",
      "source": [
        "print(\"Transactions:\", transactions.duplicated().sum())"
      ],
      "metadata": {
        "colab": {
          "base_uri": "https://localhost:8080/"
        },
        "id": "BSSug_9O8DUx",
        "outputId": "0601aaf1-c667-44f2-edc2-8e8c96332fd5"
      },
      "execution_count": 30,
      "outputs": [
        {
          "output_type": "stream",
          "name": "stdout",
          "text": [
            "Transactions: 0\n"
          ]
        }
      ]
    },
    {
      "cell_type": "code",
      "source": [
        "customers['SignupDate'] = pd.to_datetime(customers['SignupDate'])"
      ],
      "metadata": {
        "id": "gqN00Igl8Hkt"
      },
      "execution_count": 31,
      "outputs": []
    },
    {
      "cell_type": "code",
      "source": [
        "transactions['TransactionDate'] = pd.to_datetime(transactions['TransactionDate'])"
      ],
      "metadata": {
        "id": "_E97F_Lf8Kb5"
      },
      "execution_count": 32,
      "outputs": []
    },
    {
      "cell_type": "code",
      "source": [
        "print(customers.dtypes)"
      ],
      "metadata": {
        "colab": {
          "base_uri": "https://localhost:8080/"
        },
        "id": "qrG91b1R8M9a",
        "outputId": "c273d289-bf64-433b-b6da-d7b45f7cd037"
      },
      "execution_count": 33,
      "outputs": [
        {
          "output_type": "stream",
          "name": "stdout",
          "text": [
            "CustomerID              object\n",
            "CustomerName            object\n",
            "Region                  object\n",
            "SignupDate      datetime64[ns]\n",
            "dtype: object\n"
          ]
        }
      ]
    },
    {
      "cell_type": "code",
      "source": [
        "print(transactions.dtypes)"
      ],
      "metadata": {
        "colab": {
          "base_uri": "https://localhost:8080/"
        },
        "id": "l_GbKzby8PzT",
        "outputId": "beacf7cf-edbf-474b-c095-b94a52f00700"
      },
      "execution_count": 34,
      "outputs": [
        {
          "output_type": "stream",
          "name": "stdout",
          "text": [
            "TransactionID              object\n",
            "CustomerID                 object\n",
            "ProductID                  object\n",
            "TransactionDate    datetime64[ns]\n",
            "Quantity                    int64\n",
            "TotalValue                float64\n",
            "Price                     float64\n",
            "dtype: object\n"
          ]
        }
      ]
    },
    {
      "cell_type": "code",
      "source": [
        "merged_data = transactions.merge(customers, on='CustomerID').merge(products, on='ProductID')\n"
      ],
      "metadata": {
        "id": "WRBM7qb88UNM"
      },
      "execution_count": 35,
      "outputs": []
    },
    {
      "cell_type": "code",
      "source": [
        "print(\"Merged Data:\")"
      ],
      "metadata": {
        "colab": {
          "base_uri": "https://localhost:8080/"
        },
        "id": "zwiV9D-x8U7M",
        "outputId": "bac2c4c7-7cbc-424d-db40-9dff1dff07dc"
      },
      "execution_count": 36,
      "outputs": [
        {
          "output_type": "stream",
          "name": "stdout",
          "text": [
            "Merged Data:\n"
          ]
        }
      ]
    },
    {
      "cell_type": "code",
      "source": [
        "print(merged_data.head())"
      ],
      "metadata": {
        "colab": {
          "base_uri": "https://localhost:8080/"
        },
        "id": "oQzz-P5B8X3C",
        "outputId": "4b694245-c9db-4c93-9ee4-f8e6b153c257"
      },
      "execution_count": 37,
      "outputs": [
        {
          "output_type": "stream",
          "name": "stdout",
          "text": [
            "  TransactionID CustomerID ProductID     TransactionDate  Quantity  \\\n",
            "0        T00001      C0199      P067 2024-08-25 12:38:23         1   \n",
            "1        T00112      C0146      P067 2024-05-27 22:23:54         1   \n",
            "2        T00166      C0127      P067 2024-04-25 07:38:55         1   \n",
            "3        T00272      C0087      P067 2024-03-26 22:55:37         2   \n",
            "4        T00363      C0070      P067 2024-03-21 15:10:10         3   \n",
            "\n",
            "   TotalValue  Price_x     CustomerName         Region SignupDate  \\\n",
            "0      300.68   300.68   Andrea Jenkins         Europe 2022-12-03   \n",
            "1      300.68   300.68  Brittany Harvey           Asia 2024-09-04   \n",
            "2      300.68   300.68  Kathryn Stevens         Europe 2024-04-04   \n",
            "3      601.36   300.68  Travis Campbell  South America 2024-04-11   \n",
            "4      902.04   300.68    Timothy Perez         Europe 2022-03-15   \n",
            "\n",
            "                       ProductName     Category  Price_y  \n",
            "0  ComfortLiving Bluetooth Speaker  Electronics   300.68  \n",
            "1  ComfortLiving Bluetooth Speaker  Electronics   300.68  \n",
            "2  ComfortLiving Bluetooth Speaker  Electronics   300.68  \n",
            "3  ComfortLiving Bluetooth Speaker  Electronics   300.68  \n",
            "4  ComfortLiving Bluetooth Speaker  Electronics   300.68  \n"
          ]
        }
      ]
    },
    {
      "cell_type": "code",
      "source": [
        "# Generate descriptive statistics"
      ],
      "metadata": {
        "id": "eKzd03t18aE2"
      },
      "execution_count": 38,
      "outputs": []
    },
    {
      "cell_type": "code",
      "source": [
        "print(\"\\nDescriptive Statistics:\")"
      ],
      "metadata": {
        "colab": {
          "base_uri": "https://localhost:8080/"
        },
        "id": "AbZ2_Ro68dA5",
        "outputId": "7333a52d-5f88-4dc0-a61d-1f7306f08869"
      },
      "execution_count": 39,
      "outputs": [
        {
          "output_type": "stream",
          "name": "stdout",
          "text": [
            "\n",
            "Descriptive Statistics:\n"
          ]
        }
      ]
    },
    {
      "cell_type": "code",
      "source": [
        "print(merged_data.describe())"
      ],
      "metadata": {
        "colab": {
          "base_uri": "https://localhost:8080/"
        },
        "id": "pCfptCIH8fMr",
        "outputId": "7d1ccac6-7023-461f-f5e5-82f9afec7e2b"
      },
      "execution_count": 40,
      "outputs": [
        {
          "output_type": "stream",
          "name": "stdout",
          "text": [
            "                     TransactionDate     Quantity   TotalValue     Price_x  \\\n",
            "count                           1000  1000.000000  1000.000000  1000.00000   \n",
            "mean   2024-06-23 15:33:02.768999936     2.537000   689.995560   272.55407   \n",
            "min              2023-12-30 15:29:12     1.000000    16.080000    16.08000   \n",
            "25%       2024-03-25 22:05:34.500000     2.000000   295.295000   147.95000   \n",
            "50%       2024-06-26 17:21:52.500000     3.000000   588.880000   299.93000   \n",
            "75%              2024-09-19 14:19:57     4.000000  1011.660000   404.40000   \n",
            "max              2024-12-28 11:00:00     4.000000  1991.040000   497.76000   \n",
            "std                              NaN     1.117981   493.144478   140.73639   \n",
            "\n",
            "                          SignupDate     Price_y  \n",
            "count                           1000  1000.00000  \n",
            "mean   2023-07-09 02:49:55.199999744   272.55407  \n",
            "min              2022-01-22 00:00:00    16.08000  \n",
            "25%              2022-09-17 12:00:00   147.95000  \n",
            "50%              2023-07-23 00:00:00   299.93000  \n",
            "75%              2024-04-12 00:00:00   404.40000  \n",
            "max              2024-12-28 00:00:00   497.76000  \n",
            "std                              NaN   140.73639  \n"
          ]
        }
      ]
    },
    {
      "cell_type": "code",
      "source": [
        "region_sales = merged_data.groupby('Region')['TotalValue'].sum().sort_values(ascending=False)"
      ],
      "metadata": {
        "id": "rYrKrHS88hWl"
      },
      "execution_count": 41,
      "outputs": []
    },
    {
      "cell_type": "code",
      "source": [
        "region_sales.plot(kind='bar', title='Total Sales by Region', xlabel='Region', ylabel='Total Sales (USD)', figsize=(8, 5))"
      ],
      "metadata": {
        "colab": {
          "base_uri": "https://localhost:8080/",
          "height": 592
        },
        "id": "z7VrGSD08kea",
        "outputId": "69b08d1e-f093-4a6b-e413-25b776b249c8"
      },
      "execution_count": 42,
      "outputs": [
        {
          "output_type": "execute_result",
          "data": {
            "text/plain": [
              "<Axes: title={'center': 'Total Sales by Region'}, xlabel='Region', ylabel='Total Sales (USD)'>"
            ]
          },
          "metadata": {},
          "execution_count": 42
        },
        {
          "output_type": "display_data",
          "data": {
            "text/plain": [
              "<Figure size 800x500 with 1 Axes>"
            ],
            "image/png": "[encoded data removed]"
          },
          "metadata": {}
        }
      ]
    },
    {
      "cell_type": "code",
      "source": [
        "category_sales = merged_data.groupby('Category')['Quantity'].sum().sort_values(ascending=False)"
      ],
      "metadata": {
        "id": "fTKZafa78nmq"
      },
      "execution_count": 43,
      "outputs": []
    },
    {
      "cell_type": "code",
      "source": [
        "sns.barplot(x=category_sales.values, y=category_sales.index)"
      ],
      "metadata": {
        "colab": {
          "base_uri": "https://localhost:8080/",
          "height": 447
        },
        "id": "ggfyRrm18s_B",
        "outputId": "cad7a81c-a191-45fe-f98b-14ef142098e9"
      },
      "execution_count": 44,
      "outputs": [
        {
          "output_type": "execute_result",
          "data": {
            "text/plain": [
              "<Axes: ylabel='Category'>"
            ]
          },
          "metadata": {},
          "execution_count": 44
        },
        {
          "output_type": "display_data",
          "data": {
            "text/plain": [
              "<Figure size 640x480 with 1 Axes>"
            ],
            "image/png": "[encoded data removed]"
          },
          "metadata": {}
        }
      ]
    },
    {
      "cell_type": "code",
      "source": [
        "plt.title('Most Purchased Product Categories')"
      ],
      "metadata": {
        "colab": {
          "base_uri": "https://localhost:8080/",
          "height": 469
        },
        "id": "tD9QSj5i8v4l",
        "outputId": "5aea9b6c-1ff8-428a-e6bd-b4556244dad0"
      },
      "execution_count": 45,
      "outputs": [
        {
          "output_type": "execute_result",
          "data": {
            "text/plain": [
              "Text(0.5, 1.0, 'Most Purchased Product Categories')"
            ]
          },
          "metadata": {},
          "execution_count": 45
        },
        {
          "output_type": "display_data",
          "data": {
            "text/plain": [
              "<Figure size 640x480 with 1 Axes>"
            ],
            "image/png": "[encoded data removed]"
          },
          "metadata": {}
        }
      ]
    },
    {
      "cell_type": "code",
      "source": [
        "plt.xlabel('Quantity Sold')"
      ],
      "metadata": {
        "colab": {
          "base_uri": "https://localhost:8080/",
          "height": 472
        },
        "id": "fIWYc-Ag8yEz",
        "outputId": "cd885494-5bd4-4398-cc9f-0c534541ce6e"
      },
      "execution_count": 46,
      "outputs": [
        {
          "output_type": "execute_result",
          "data": {
            "text/plain": [
              "Text(0.5, 0, 'Quantity Sold')"
            ]
          },
          "metadata": {},
          "execution_count": 46
        },
        {
          "output_type": "display_data",
          "data": {
            "text/plain": [
              "<Figure size 640x480 with 1 Axes>"
            ],
            "image/png": "[encoded data removed]"
          },
          "metadata": {}
        }
      ]
    },
    {
      "cell_type": "code",
      "source": [
        "plt.ylabel('Category')"
      ],
      "metadata": {
        "colab": {
          "base_uri": "https://localhost:8080/",
          "height": 452
        },
        "id": "0dh9xNju82AC",
        "outputId": "cca6d9fa-5a26-4a41-80ba-36dc7a87ad51"
      },
      "execution_count": 49,
      "outputs": [
        {
          "output_type": "execute_result",
          "data": {
            "text/plain": [
              "Text(0, 0.5, 'Category')"
            ]
          },
          "metadata": {},
          "execution_count": 49
        },
        {
          "output_type": "display_data",
          "data": {
            "text/plain": [
              "<Figure size 640x480 with 1 Axes>"
            ],
            "image/png": "[encoded data removed]"
          },
          "metadata": {}
        }
      ]
    },
    {
      "cell_type": "code",
      "source": [
        "plt.show()"
      ],
      "metadata": {
        "id": "M0SrQlws84Om"
      },
      "execution_count": 48,
      "outputs": []
    },
    {
      "cell_type": "markdown",
      "source": [
        "Insight 1:\n",
        "The majority of the total sales come from customers in Europe, accounting for the highest proportion of sales compared to other regions. This indicates that Europe is the most lucrative market for the business.\n",
        "\n",
        "Insight 2:\n",
        "The product category with the highest sales volume is Category A, with a significantly larger quantity sold compared to other categories. This suggests that this category is the most popular among customers and may warrant more focus in future marketing or inventory decisions.\n",
        "\n",
        "Insight 3:\n",
        "There is a noticeable seasonality pattern in the transactions based on the 'SignupDate' and 'TransactionDate'. A surge in signups and purchases happens during certain months, which could be aligned with specific promotions or seasonal shopping trends.\n",
        "\n",
        "Insight 4:\n",
        "A significant portion of transactions comes from a relatively small number of customers. This could indicate a \"long-tail\" effect, where a few high-value customers contribute heavily to overall sales, and others contribute in smaller, more fragmented amounts. This could inform loyalty programs or personalized marketing efforts targeting high-value customers.\n",
        "\n",
        "Insight 5:\n",
        "A high proportion of missing values in certain columns, especially in the Products data, might suggest the need for better data collection practices. This may also affect the accuracy of product performance analysis, and addressing these gaps could provide more reliable insights into sales trends and product performance."
      ],
      "metadata": {
        "id": "W63F8HBy91t3"
      }
    }
  ]
}